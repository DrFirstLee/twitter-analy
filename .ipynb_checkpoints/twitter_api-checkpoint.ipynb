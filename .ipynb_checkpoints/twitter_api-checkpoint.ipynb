{
 "cells": [
  {
   "cell_type": "code",
   "execution_count": 43,
   "id": "df8c4603",
   "metadata": {},
   "outputs": [],
   "source": [
    "# https://medium.com/sungkwang-engineering/python-%EC%9C%BC%EB%A1%9C-twitter-v2-api-%EC%82%AC%EC%9A%A9%ED%95%98%EA%B8%B0-273ce1560352\n",
    "import tweepy\n",
    "\n",
    "access_token = '1479831483766681605-Web8Yadm13sA4A8AUmQ4n9s4utoDMc'\n",
    "access_token_secret= 'vO5m1J6yEbmyLFpP7afSkRqPkAsC8Fg8SdmoAkVFft8G0'\n",
    "\n",
    "cliend_id = 'RFgxS2NMZHVyTW1fNl90SmdPN1Y6MTpjaQ'\n",
    "client_secret = 'cr0uBrEv9Sy_OlkDqT3zNyiy6sYuzvphbOB2dkr1sq3rVAG5xh'\n",
    "\n",
    "api_key = 'UBcDEOJ089eD6AJQQzyIozemP'\n",
    "api_secret = 'wk74MprAMTBm4D17z1sNwaOgT4YfwNxZQcemeyBfng2gwHUvyZ'\n",
    "\n",
    "Bearer_Token =\"AAAAAAAAAAAAAAAAAAAAAOeZtAEAAAAAdYRN2gIFYkz%2BuDujIMTRaEvr8ZI%3DSSdLTaUCO0zp7ZYEZPLjaugPF5UYai763tPYIunxWi62S9Oj7L\"\n",
    "\n",
    "text = \"안녕하세요 Tweepy 테스트 입니다22\"\n",
    "\n",
    "client = tweepy.Client(\n",
    "    access_token= access_token,\n",
    "    access_token_secret=access_token_secret,\n",
    "    consumer_key= api_key,\n",
    "    consumer_secret=api_secret ,\n",
    "    bearer_token= Bearer_Token\n",
    ")\n",
    "\n",
    "result = client.create_tweet(text=text)"
   ]
  },
  {
   "cell_type": "code",
   "execution_count": 46,
   "id": "12017aab",
   "metadata": {},
   "outputs": [],
   "source": [
    "result = client.create_tweet(text=\"twiter api2 뭐이런식이냐\")"
   ]
  },
  {
   "cell_type": "code",
   "execution_count": 51,
   "id": "ae17af11",
   "metadata": {},
   "outputs": [
    {
     "data": {
      "text/plain": [
       "Response(data=<User id=1479831483766681605 name=일등박사 username=DrFirst111>, includes={}, errors=[], meta={})"
      ]
     },
     "execution_count": 51,
     "metadata": {},
     "output_type": "execute_result"
    }
   ],
   "source": [
    "client.get_me()"
   ]
  },
  {
   "cell_type": "code",
   "execution_count": 50,
   "id": "ee0dcc8d",
   "metadata": {},
   "outputs": [
    {
     "ename": "Forbidden",
     "evalue": "403 Forbidden\nWhen authenticating requests to the Twitter API v2 endpoints, you must use keys and tokens from a Twitter developer App that is attached to a Project. You can create a project via the developer portal.",
     "output_type": "error",
     "traceback": [
      "\u001b[0;31m---------------------------------------------------------------------------\u001b[0m",
      "\u001b[0;31mForbidden\u001b[0m                                 Traceback (most recent call last)",
      "Cell \u001b[0;32mIn[50], line 1\u001b[0m\n\u001b[0;32m----> 1\u001b[0m client\u001b[38;5;241m.\u001b[39mget_tweets(ids\u001b[38;5;241m=\u001b[39m[\u001b[38;5;124m\"\u001b[39m\u001b[38;5;124m1460323737035677698\u001b[39m\u001b[38;5;124m\"\u001b[39m])\n",
      "File \u001b[0;32m~/anaconda3/lib/python3.11/site-packages/tweepy/client.py:1821\u001b[0m, in \u001b[0;36mClient.get_tweets\u001b[0;34m(self, ids, user_auth, **params)\u001b[0m\n\u001b[1;32m   1782\u001b[0m \u001b[38;5;250m\u001b[39m\u001b[38;5;124;03m\"\"\"get_tweets( \\\u001b[39;00m\n\u001b[1;32m   1783\u001b[0m \u001b[38;5;124;03m    ids, *, expansions=None, media_fields=None, place_fields=None, \\\u001b[39;00m\n\u001b[1;32m   1784\u001b[0m \u001b[38;5;124;03m    poll_fields=None, tweet_fields=None, user_fields=None, \\\u001b[39;00m\n\u001b[0;32m   (...)\u001b[0m\n\u001b[1;32m   1818\u001b[0m \u001b[38;5;124;03mhttps://developer.twitter.com/en/docs/twitter-api/tweets/lookup/api-reference/get-tweets\u001b[39;00m\n\u001b[1;32m   1819\u001b[0m \u001b[38;5;124;03m\"\"\"\u001b[39;00m\n\u001b[1;32m   1820\u001b[0m params[\u001b[38;5;124m\"\u001b[39m\u001b[38;5;124mids\u001b[39m\u001b[38;5;124m\"\u001b[39m] \u001b[38;5;241m=\u001b[39m ids\n\u001b[0;32m-> 1821\u001b[0m \u001b[38;5;28;01mreturn\u001b[39;00m \u001b[38;5;28mself\u001b[39m\u001b[38;5;241m.\u001b[39m_make_request(\n\u001b[1;32m   1822\u001b[0m     \u001b[38;5;124m\"\u001b[39m\u001b[38;5;124mGET\u001b[39m\u001b[38;5;124m\"\u001b[39m, \u001b[38;5;124m\"\u001b[39m\u001b[38;5;124m/2/tweets\u001b[39m\u001b[38;5;124m\"\u001b[39m, params\u001b[38;5;241m=\u001b[39mparams,\n\u001b[1;32m   1823\u001b[0m     endpoint_parameters\u001b[38;5;241m=\u001b[39m(\n\u001b[1;32m   1824\u001b[0m         \u001b[38;5;124m\"\u001b[39m\u001b[38;5;124mids\u001b[39m\u001b[38;5;124m\"\u001b[39m, \u001b[38;5;124m\"\u001b[39m\u001b[38;5;124mexpansions\u001b[39m\u001b[38;5;124m\"\u001b[39m, \u001b[38;5;124m\"\u001b[39m\u001b[38;5;124mmedia.fields\u001b[39m\u001b[38;5;124m\"\u001b[39m, \u001b[38;5;124m\"\u001b[39m\u001b[38;5;124mplace.fields\u001b[39m\u001b[38;5;124m\"\u001b[39m,\n\u001b[1;32m   1825\u001b[0m         \u001b[38;5;124m\"\u001b[39m\u001b[38;5;124mpoll.fields\u001b[39m\u001b[38;5;124m\"\u001b[39m, \u001b[38;5;124m\"\u001b[39m\u001b[38;5;124mtweet.fields\u001b[39m\u001b[38;5;124m\"\u001b[39m, \u001b[38;5;124m\"\u001b[39m\u001b[38;5;124muser.fields\u001b[39m\u001b[38;5;124m\"\u001b[39m\n\u001b[1;32m   1826\u001b[0m     ), data_type\u001b[38;5;241m=\u001b[39mTweet, user_auth\u001b[38;5;241m=\u001b[39muser_auth\n\u001b[1;32m   1827\u001b[0m )\n",
      "File \u001b[0;32m~/anaconda3/lib/python3.11/site-packages/tweepy/client.py:129\u001b[0m, in \u001b[0;36mBaseClient._make_request\u001b[0;34m(self, method, route, params, endpoint_parameters, json, data_type, user_auth)\u001b[0m\n\u001b[1;32m    123\u001b[0m \u001b[38;5;28;01mdef\u001b[39;00m \u001b[38;5;21m_make_request\u001b[39m(\n\u001b[1;32m    124\u001b[0m     \u001b[38;5;28mself\u001b[39m, method, route, params\u001b[38;5;241m=\u001b[39m{}, endpoint_parameters\u001b[38;5;241m=\u001b[39m(), json\u001b[38;5;241m=\u001b[39m\u001b[38;5;28;01mNone\u001b[39;00m,\n\u001b[1;32m    125\u001b[0m     data_type\u001b[38;5;241m=\u001b[39m\u001b[38;5;28;01mNone\u001b[39;00m, user_auth\u001b[38;5;241m=\u001b[39m\u001b[38;5;28;01mFalse\u001b[39;00m\n\u001b[1;32m    126\u001b[0m ):\n\u001b[1;32m    127\u001b[0m     request_params \u001b[38;5;241m=\u001b[39m \u001b[38;5;28mself\u001b[39m\u001b[38;5;241m.\u001b[39m_process_params(params, endpoint_parameters)\n\u001b[0;32m--> 129\u001b[0m     response \u001b[38;5;241m=\u001b[39m \u001b[38;5;28mself\u001b[39m\u001b[38;5;241m.\u001b[39mrequest(method, route, params\u001b[38;5;241m=\u001b[39mrequest_params,\n\u001b[1;32m    130\u001b[0m                             json\u001b[38;5;241m=\u001b[39mjson, user_auth\u001b[38;5;241m=\u001b[39muser_auth)\n\u001b[1;32m    132\u001b[0m     \u001b[38;5;28;01mif\u001b[39;00m \u001b[38;5;28mself\u001b[39m\u001b[38;5;241m.\u001b[39mreturn_type \u001b[38;5;129;01mis\u001b[39;00m requests\u001b[38;5;241m.\u001b[39mResponse:\n\u001b[1;32m    133\u001b[0m         \u001b[38;5;28;01mreturn\u001b[39;00m response\n",
      "File \u001b[0;32m~/anaconda3/lib/python3.11/site-packages/tweepy/client.py:100\u001b[0m, in \u001b[0;36mBaseClient.request\u001b[0;34m(self, method, route, params, json, user_auth)\u001b[0m\n\u001b[1;32m     98\u001b[0m     \u001b[38;5;28;01mraise\u001b[39;00m Unauthorized(response)\n\u001b[1;32m     99\u001b[0m \u001b[38;5;28;01mif\u001b[39;00m response\u001b[38;5;241m.\u001b[39mstatus_code \u001b[38;5;241m==\u001b[39m \u001b[38;5;241m403\u001b[39m:\n\u001b[0;32m--> 100\u001b[0m     \u001b[38;5;28;01mraise\u001b[39;00m Forbidden(response)\n\u001b[1;32m    101\u001b[0m \u001b[38;5;28;01mif\u001b[39;00m response\u001b[38;5;241m.\u001b[39mstatus_code \u001b[38;5;241m==\u001b[39m \u001b[38;5;241m404\u001b[39m:\n\u001b[1;32m    102\u001b[0m     \u001b[38;5;28;01mraise\u001b[39;00m NotFound(response)\n",
      "\u001b[0;31mForbidden\u001b[0m: 403 Forbidden\nWhen authenticating requests to the Twitter API v2 endpoints, you must use keys and tokens from a Twitter developer App that is attached to a Project. You can create a project via the developer portal."
     ]
    }
   ],
   "source": [
    "client.get_tweets(ids=[\"1460323737035677698\"])"
   ]
  },
  {
   "cell_type": "code",
   "execution_count": null,
   "id": "da5c7391",
   "metadata": {},
   "outputs": [],
   "source": []
  },
  {
   "cell_type": "code",
   "execution_count": null,
   "id": "0900f225",
   "metadata": {},
   "outputs": [],
   "source": []
  },
  {
   "cell_type": "code",
   "execution_count": null,
   "id": "4e2b8f25",
   "metadata": {},
   "outputs": [],
   "source": []
  },
  {
   "cell_type": "code",
   "execution_count": 38,
   "id": "fc811cef",
   "metadata": {},
   "outputs": [
    {
     "ename": "Forbidden",
     "evalue": "403 Forbidden\n453 - You currently have access to a subset of Twitter API v2 endpoints and limited v1.1 endpoints (e.g. media post, oauth) only. If you need access to this endpoint, you may need a different access level. You can learn more here: https://developer.twitter.com/en/portal/product",
     "output_type": "error",
     "traceback": [
      "\u001b[0;31m---------------------------------------------------------------------------\u001b[0m",
      "\u001b[0;31mForbidden\u001b[0m                                 Traceback (most recent call last)",
      "Cell \u001b[0;32mIn[38], line 13\u001b[0m\n\u001b[1;32m      3\u001b[0m auth \u001b[38;5;241m=\u001b[39m tweepy\u001b[38;5;241m.\u001b[39mOAuth1UserHandler(\n\u001b[1;32m      4\u001b[0m     consumer_key\u001b[38;5;241m=\u001b[39m api_key,\n\u001b[1;32m      5\u001b[0m     consumer_secret\u001b[38;5;241m=\u001b[39mapi_secret ,\n\u001b[0;32m   (...)\u001b[0m\n\u001b[1;32m      8\u001b[0m     \n\u001b[1;32m      9\u001b[0m )\n\u001b[1;32m     11\u001b[0m api \u001b[38;5;241m=\u001b[39m tweepy\u001b[38;5;241m.\u001b[39mAPI(auth)\n\u001b[0;32m---> 13\u001b[0m public_tweets \u001b[38;5;241m=\u001b[39m api\u001b[38;5;241m.\u001b[39mhome_timeline()\n\u001b[1;32m     14\u001b[0m \u001b[38;5;28;01mfor\u001b[39;00m tweet \u001b[38;5;129;01min\u001b[39;00m public_tweets:\n\u001b[1;32m     15\u001b[0m     \u001b[38;5;28mprint\u001b[39m(tweet\u001b[38;5;241m.\u001b[39mtext)\n",
      "File \u001b[0;32m~/anaconda3/lib/python3.11/site-packages/tweepy/api.py:33\u001b[0m, in \u001b[0;36mpagination.<locals>.decorator.<locals>.wrapper\u001b[0;34m(*args, **kwargs)\u001b[0m\n\u001b[1;32m     31\u001b[0m \u001b[38;5;129m@functools\u001b[39m\u001b[38;5;241m.\u001b[39mwraps(method)\n\u001b[1;32m     32\u001b[0m \u001b[38;5;28;01mdef\u001b[39;00m \u001b[38;5;21mwrapper\u001b[39m(\u001b[38;5;241m*\u001b[39margs, \u001b[38;5;241m*\u001b[39m\u001b[38;5;241m*\u001b[39mkwargs):\n\u001b[0;32m---> 33\u001b[0m     \u001b[38;5;28;01mreturn\u001b[39;00m method(\u001b[38;5;241m*\u001b[39margs, \u001b[38;5;241m*\u001b[39m\u001b[38;5;241m*\u001b[39mkwargs)\n",
      "File \u001b[0;32m~/anaconda3/lib/python3.11/site-packages/tweepy/api.py:46\u001b[0m, in \u001b[0;36mpayload.<locals>.decorator.<locals>.wrapper\u001b[0;34m(*args, **kwargs)\u001b[0m\n\u001b[1;32m     44\u001b[0m kwargs[\u001b[38;5;124m'\u001b[39m\u001b[38;5;124mpayload_list\u001b[39m\u001b[38;5;124m'\u001b[39m] \u001b[38;5;241m=\u001b[39m payload_list\n\u001b[1;32m     45\u001b[0m kwargs[\u001b[38;5;124m'\u001b[39m\u001b[38;5;124mpayload_type\u001b[39m\u001b[38;5;124m'\u001b[39m] \u001b[38;5;241m=\u001b[39m payload_type\n\u001b[0;32m---> 46\u001b[0m \u001b[38;5;28;01mreturn\u001b[39;00m method(\u001b[38;5;241m*\u001b[39margs, \u001b[38;5;241m*\u001b[39m\u001b[38;5;241m*\u001b[39mkwargs)\n",
      "File \u001b[0;32m~/anaconda3/lib/python3.11/site-packages/tweepy/api.py:331\u001b[0m, in \u001b[0;36mAPI.home_timeline\u001b[0;34m(self, **kwargs)\u001b[0m\n\u001b[1;32m    298\u001b[0m \u001b[38;5;129m@pagination\u001b[39m(mode\u001b[38;5;241m=\u001b[39m\u001b[38;5;124m'\u001b[39m\u001b[38;5;124mid\u001b[39m\u001b[38;5;124m'\u001b[39m)\n\u001b[1;32m    299\u001b[0m \u001b[38;5;129m@payload\u001b[39m(\u001b[38;5;124m'\u001b[39m\u001b[38;5;124mstatus\u001b[39m\u001b[38;5;124m'\u001b[39m, \u001b[38;5;28mlist\u001b[39m\u001b[38;5;241m=\u001b[39m\u001b[38;5;28;01mTrue\u001b[39;00m)\n\u001b[1;32m    300\u001b[0m \u001b[38;5;28;01mdef\u001b[39;00m \u001b[38;5;21mhome_timeline\u001b[39m(\u001b[38;5;28mself\u001b[39m, \u001b[38;5;241m*\u001b[39m\u001b[38;5;241m*\u001b[39mkwargs):\n\u001b[1;32m    301\u001b[0m \u001b[38;5;250m    \u001b[39m\u001b[38;5;124;03m\"\"\"home_timeline(*, count, since_id, max_id, trim_user, \\\u001b[39;00m\n\u001b[1;32m    302\u001b[0m \u001b[38;5;124;03m                     exclude_replies, include_entities)\u001b[39;00m\n\u001b[1;32m    303\u001b[0m \n\u001b[0;32m   (...)\u001b[0m\n\u001b[1;32m    329\u001b[0m \u001b[38;5;124;03m    https://developer.twitter.com/en/docs/twitter-api/v1/tweets/timelines/api-reference/get-statuses-home_timeline\u001b[39;00m\n\u001b[1;32m    330\u001b[0m \u001b[38;5;124;03m    \"\"\"\u001b[39;00m\n\u001b[0;32m--> 331\u001b[0m     \u001b[38;5;28;01mreturn\u001b[39;00m \u001b[38;5;28mself\u001b[39m\u001b[38;5;241m.\u001b[39mrequest(\n\u001b[1;32m    332\u001b[0m         \u001b[38;5;124m'\u001b[39m\u001b[38;5;124mGET\u001b[39m\u001b[38;5;124m'\u001b[39m, \u001b[38;5;124m'\u001b[39m\u001b[38;5;124mstatuses/home_timeline\u001b[39m\u001b[38;5;124m'\u001b[39m, endpoint_parameters\u001b[38;5;241m=\u001b[39m(\n\u001b[1;32m    333\u001b[0m             \u001b[38;5;124m'\u001b[39m\u001b[38;5;124mcount\u001b[39m\u001b[38;5;124m'\u001b[39m, \u001b[38;5;124m'\u001b[39m\u001b[38;5;124msince_id\u001b[39m\u001b[38;5;124m'\u001b[39m, \u001b[38;5;124m'\u001b[39m\u001b[38;5;124mmax_id\u001b[39m\u001b[38;5;124m'\u001b[39m, \u001b[38;5;124m'\u001b[39m\u001b[38;5;124mtrim_user\u001b[39m\u001b[38;5;124m'\u001b[39m, \u001b[38;5;124m'\u001b[39m\u001b[38;5;124mexclude_replies\u001b[39m\u001b[38;5;124m'\u001b[39m,\n\u001b[1;32m    334\u001b[0m             \u001b[38;5;124m'\u001b[39m\u001b[38;5;124minclude_entities\u001b[39m\u001b[38;5;124m'\u001b[39m\n\u001b[1;32m    335\u001b[0m         ), \u001b[38;5;241m*\u001b[39m\u001b[38;5;241m*\u001b[39mkwargs\n\u001b[1;32m    336\u001b[0m     )\n",
      "File \u001b[0;32m~/anaconda3/lib/python3.11/site-packages/tweepy/api.py:271\u001b[0m, in \u001b[0;36mAPI.request\u001b[0;34m(self, method, endpoint, endpoint_parameters, params, headers, json_payload, parser, payload_list, payload_type, post_data, files, require_auth, return_cursors, upload_api, use_cache, **kwargs)\u001b[0m\n\u001b[1;32m    269\u001b[0m     \u001b[38;5;28;01mraise\u001b[39;00m Unauthorized(resp)\n\u001b[1;32m    270\u001b[0m \u001b[38;5;28;01mif\u001b[39;00m resp\u001b[38;5;241m.\u001b[39mstatus_code \u001b[38;5;241m==\u001b[39m \u001b[38;5;241m403\u001b[39m:\n\u001b[0;32m--> 271\u001b[0m     \u001b[38;5;28;01mraise\u001b[39;00m Forbidden(resp)\n\u001b[1;32m    272\u001b[0m \u001b[38;5;28;01mif\u001b[39;00m resp\u001b[38;5;241m.\u001b[39mstatus_code \u001b[38;5;241m==\u001b[39m \u001b[38;5;241m404\u001b[39m:\n\u001b[1;32m    273\u001b[0m     \u001b[38;5;28;01mraise\u001b[39;00m NotFound(resp)\n",
      "\u001b[0;31mForbidden\u001b[0m: 403 Forbidden\n453 - You currently have access to a subset of Twitter API v2 endpoints and limited v1.1 endpoints (e.g. media post, oauth) only. If you need access to this endpoint, you may need a different access level. You can learn more here: https://developer.twitter.com/en/portal/product"
     ]
    }
   ],
   "source": [
    "import tweepy\n",
    "\n",
    "auth = tweepy.OAuth1UserHandler(\n",
    "    consumer_key= api_key,\n",
    "    consumer_secret=api_secret ,\n",
    "    access_token = access_token,\n",
    "    access_token_secret=access_token_secret,\n",
    "    \n",
    ")\n",
    "\n",
    "api = tweepy.API(auth)\n",
    "\n",
    "public_tweets = api.home_timeline()\n",
    "for tweet in public_tweets:\n",
    "    print(tweet.text)"
   ]
  },
  {
   "cell_type": "code",
   "execution_count": null,
   "id": "722c1500",
   "metadata": {},
   "outputs": [],
   "source": [
    "# API 객체 생성\n",
    "api = tweepy.API(auth)\n",
    "\n",
    "# 검색어 설정\n",
    "query = \"python\"\n",
    "\n",
    "# 트윗 검색\n",
    "tweets = api.search(q=query, count=100)\n",
    "\n",
    "# 결과 출력\n",
    "for tweet in tweets:\n",
    "    print(tweet.text)"
   ]
  },
  {
   "cell_type": "code",
   "execution_count": null,
   "id": "0e4191df",
   "metadata": {},
   "outputs": [],
   "source": []
  },
  {
   "cell_type": "code",
   "execution_count": 6,
   "id": "6c1f2c69",
   "metadata": {
    "scrolled": true
   },
   "outputs": [
    {
     "name": "stdout",
     "output_type": "stream",
     "text": [
      "Collecting twython\n",
      "  Obtaining dependency information for twython from https://files.pythonhosted.org/packages/db/08/9921df4cb5829858dbd580ebd8a5a4b9e75a0b8295bc1e98963a983a0621/twython-3.9.1-py3-none-any.whl.metadata\n",
      "  Downloading twython-3.9.1-py3-none-any.whl.metadata (20 kB)\n",
      "Requirement already satisfied: requests>=2.1.0 in /home/bongo/anaconda3/lib/python3.11/site-packages (from twython) (2.31.0)\n",
      "Requirement already satisfied: requests-oauthlib>=0.4.0 in /home/bongo/anaconda3/lib/python3.11/site-packages (from twython) (1.3.1)\n",
      "Requirement already satisfied: charset-normalizer<4,>=2 in /home/bongo/anaconda3/lib/python3.11/site-packages (from requests>=2.1.0->twython) (2.1.1)\n",
      "Requirement already satisfied: idna<4,>=2.5 in /home/bongo/anaconda3/lib/python3.11/site-packages (from requests>=2.1.0->twython) (3.4)\n",
      "Requirement already satisfied: urllib3<3,>=1.21.1 in /home/bongo/anaconda3/lib/python3.11/site-packages (from requests>=2.1.0->twython) (1.26.18)\n",
      "Requirement already satisfied: certifi>=2017.4.17 in /home/bongo/anaconda3/lib/python3.11/site-packages (from requests>=2.1.0->twython) (2024.2.2)\n",
      "Requirement already satisfied: oauthlib>=3.0.0 in /home/bongo/anaconda3/lib/python3.11/site-packages (from requests-oauthlib>=0.4.0->twython) (3.2.2)\n",
      "Downloading twython-3.9.1-py3-none-any.whl (33 kB)\n",
      "Installing collected packages: twython\n",
      "Successfully installed twython-3.9.1\n"
     ]
    }
   ],
   "source": [
    "!pip install twython"
   ]
  },
  {
   "cell_type": "code",
   "execution_count": 21,
   "id": "5f9f9727",
   "metadata": {},
   "outputs": [
    {
     "name": "stdout",
     "output_type": "stream",
     "text": [
      "Verifier URL is: https://api.twitter.com/oauth/authenticate?oauth_token=2YdrCwAAAAABtJnnAAABjqu8Mro\n",
      "OAUTH_TOKEN is: 2YdrCwAAAAABtJnnAAABjqu8Mro\n",
      "OAUTH TOKEN SECRET is: w87NJpxxvUpu6eI6PdQh1gOw06XZtGEF\n"
     ]
    }
   ],
   "source": [
    "from twython import Twython\n",
    "import requests\n",
    "\n",
    "APP_KEY =   'UBcDEOJ089eD6AJQQzyIozemP'\n",
    "APP_SECRET =  'wk74MprAMTBm4D17z1sNwaOgT4YfwNxZQcemeyBfng2gwHUvyZ'\n",
    "twitter = Twython(APP_KEY, APP_SECRET)\n",
    "auth = twitter.get_authentication_tokens()\n",
    "\n",
    "OAUTH_TOKEN = auth['oauth_token']\n",
    "OAUTH_TOKEN_SECRET = auth['oauth_token_secret']\n",
    "\n",
    "oauth_verifier_url = auth['auth_url']\n",
    "oauth_verifier = requests.get(oauth_verifier_url)\n",
    "\n",
    "print(\"Verifier URL is: \" + oauth_verifier_url)\n",
    "print(\"OAUTH_TOKEN is: \" + OAUTH_TOKEN)\n",
    "print(\"OAUTH TOKEN SECRET is: \" + OAUTH_TOKEN_SECRET)\n"
   ]
  },
  {
   "cell_type": "code",
   "execution_count": 26,
   "id": "4431e3f9",
   "metadata": {
    "scrolled": true
   },
   "outputs": [
    {
     "ename": "TwythonAuthError",
     "evalue": "Twitter API returned a 401 (Unauthorized), Invalid or expired token.",
     "output_type": "error",
     "traceback": [
      "\u001b[0;31m---------------------------------------------------------------------------\u001b[0m",
      "\u001b[0;31mTwythonAuthError\u001b[0m                          Traceback (most recent call last)",
      "Cell \u001b[0;32mIn[26], line 6\u001b[0m\n\u001b[1;32m      4\u001b[0m \u001b[38;5;66;03m# 예시: 사용자 타임라인 트윗 가져오기\u001b[39;00m\n\u001b[1;32m      5\u001b[0m username \u001b[38;5;241m=\u001b[39m \u001b[38;5;124m\"\u001b[39m\u001b[38;5;124m@DrFirst111\u001b[39m\u001b[38;5;124m\"\u001b[39m\n\u001b[0;32m----> 6\u001b[0m user_timeline \u001b[38;5;241m=\u001b[39m twitter\u001b[38;5;241m.\u001b[39mget_user_timeline(screen_name\u001b[38;5;241m=\u001b[39musername, count\u001b[38;5;241m=\u001b[39m\u001b[38;5;241m10\u001b[39m)\n\u001b[1;32m      8\u001b[0m \u001b[38;5;66;03m# 마지막 10개 트윗의 텍스트 출력\u001b[39;00m\n\u001b[1;32m      9\u001b[0m \u001b[38;5;28;01mfor\u001b[39;00m tweet \u001b[38;5;129;01min\u001b[39;00m user_timeline:\n",
      "File \u001b[0;32m~/anaconda3/lib/python3.11/site-packages/twython/endpoints.py:51\u001b[0m, in \u001b[0;36mEndpointsMixin.get_user_timeline\u001b[0;34m(self, **params)\u001b[0m\n\u001b[1;32m     43\u001b[0m \u001b[38;5;28;01mdef\u001b[39;00m \u001b[38;5;21mget_user_timeline\u001b[39m(\u001b[38;5;28mself\u001b[39m, \u001b[38;5;241m*\u001b[39m\u001b[38;5;241m*\u001b[39mparams):\n\u001b[1;32m     44\u001b[0m \u001b[38;5;250m    \u001b[39m\u001b[38;5;124;03m\"\"\"Returns a collection of the most recent Tweets posted by the user\u001b[39;00m\n\u001b[1;32m     45\u001b[0m \u001b[38;5;124;03m    indicated by the ``screen_name`` or ``user_id`` parameters.\u001b[39;00m\n\u001b[1;32m     46\u001b[0m \n\u001b[0;32m   (...)\u001b[0m\n\u001b[1;32m     49\u001b[0m \n\u001b[1;32m     50\u001b[0m \u001b[38;5;124;03m    \"\"\"\u001b[39;00m\n\u001b[0;32m---> 51\u001b[0m     \u001b[38;5;28;01mreturn\u001b[39;00m \u001b[38;5;28mself\u001b[39m\u001b[38;5;241m.\u001b[39mget(\u001b[38;5;124m'\u001b[39m\u001b[38;5;124mstatuses/user_timeline\u001b[39m\u001b[38;5;124m'\u001b[39m, params\u001b[38;5;241m=\u001b[39mparams)\n",
      "File \u001b[0;32m~/anaconda3/lib/python3.11/site-packages/twython/api.py:279\u001b[0m, in \u001b[0;36mTwython.get\u001b[0;34m(self, endpoint, params, version)\u001b[0m\n\u001b[1;32m    277\u001b[0m \u001b[38;5;28;01mdef\u001b[39;00m \u001b[38;5;21mget\u001b[39m(\u001b[38;5;28mself\u001b[39m, endpoint, params\u001b[38;5;241m=\u001b[39m\u001b[38;5;28;01mNone\u001b[39;00m, version\u001b[38;5;241m=\u001b[39m\u001b[38;5;124m'\u001b[39m\u001b[38;5;124m1.1\u001b[39m\u001b[38;5;124m'\u001b[39m):\n\u001b[1;32m    278\u001b[0m \u001b[38;5;250m    \u001b[39m\u001b[38;5;124;03m\"\"\"Shortcut for GET requests via :class:`request`\"\"\"\u001b[39;00m\n\u001b[0;32m--> 279\u001b[0m     \u001b[38;5;28;01mreturn\u001b[39;00m \u001b[38;5;28mself\u001b[39m\u001b[38;5;241m.\u001b[39mrequest(endpoint, params\u001b[38;5;241m=\u001b[39mparams, version\u001b[38;5;241m=\u001b[39mversion)\n",
      "File \u001b[0;32m~/anaconda3/lib/python3.11/site-packages/twython/api.py:272\u001b[0m, in \u001b[0;36mTwython.request\u001b[0;34m(self, endpoint, method, params, version, json_encoded)\u001b[0m\n\u001b[1;32m    269\u001b[0m \u001b[38;5;28;01melse\u001b[39;00m:\n\u001b[1;32m    270\u001b[0m     url \u001b[38;5;241m=\u001b[39m \u001b[38;5;124m'\u001b[39m\u001b[38;5;132;01m%s\u001b[39;00m\u001b[38;5;124m/\u001b[39m\u001b[38;5;132;01m%s\u001b[39;00m\u001b[38;5;124m.json\u001b[39m\u001b[38;5;124m'\u001b[39m \u001b[38;5;241m%\u001b[39m (\u001b[38;5;28mself\u001b[39m\u001b[38;5;241m.\u001b[39mapi_url \u001b[38;5;241m%\u001b[39m version, endpoint)\n\u001b[0;32m--> 272\u001b[0m content \u001b[38;5;241m=\u001b[39m \u001b[38;5;28mself\u001b[39m\u001b[38;5;241m.\u001b[39m_request(url, method\u001b[38;5;241m=\u001b[39mmethod, params\u001b[38;5;241m=\u001b[39mparams,\n\u001b[1;32m    273\u001b[0m                         api_call\u001b[38;5;241m=\u001b[39murl, json_encoded\u001b[38;5;241m=\u001b[39mjson_encoded)\n\u001b[1;32m    275\u001b[0m \u001b[38;5;28;01mreturn\u001b[39;00m content\n",
      "File \u001b[0;32m~/anaconda3/lib/python3.11/site-packages/twython/api.py:202\u001b[0m, in \u001b[0;36mTwython._request\u001b[0;34m(self, url, method, params, api_call, json_encoded)\u001b[0m\n\u001b[1;32m    195\u001b[0m     \u001b[38;5;28;01melif\u001b[39;00m response\u001b[38;5;241m.\u001b[39mstatus_code \u001b[38;5;241m==\u001b[39m \u001b[38;5;241m401\u001b[39m \u001b[38;5;129;01mor\u001b[39;00m \u001b[38;5;124m'\u001b[39m\u001b[38;5;124mBad Authentication data\u001b[39m\u001b[38;5;124m'\u001b[39m \\\n\u001b[1;32m    196\u001b[0m             \u001b[38;5;129;01min\u001b[39;00m error_message:\n\u001b[1;32m    197\u001b[0m         \u001b[38;5;66;03m# Twitter API 1.1, returns a 401 Unauthorized or\u001b[39;00m\n\u001b[1;32m    198\u001b[0m         \u001b[38;5;66;03m# a 400 \"Bad Authentication data\" for invalid/expired\u001b[39;00m\n\u001b[1;32m    199\u001b[0m         \u001b[38;5;66;03m# app keys/user tokens\u001b[39;00m\n\u001b[1;32m    200\u001b[0m         ExceptionType \u001b[38;5;241m=\u001b[39m TwythonAuthError\n\u001b[0;32m--> 202\u001b[0m     \u001b[38;5;28;01mraise\u001b[39;00m ExceptionType(\n\u001b[1;32m    203\u001b[0m         error_message,\n\u001b[1;32m    204\u001b[0m         error_code\u001b[38;5;241m=\u001b[39mresponse\u001b[38;5;241m.\u001b[39mstatus_code,\n\u001b[1;32m    205\u001b[0m         retry_after\u001b[38;5;241m=\u001b[39mresponse\u001b[38;5;241m.\u001b[39mheaders\u001b[38;5;241m.\u001b[39mget(\u001b[38;5;124m'\u001b[39m\u001b[38;5;124mX-Rate-Limit-Reset\u001b[39m\u001b[38;5;124m'\u001b[39m))\n\u001b[1;32m    206\u001b[0m content \u001b[38;5;241m=\u001b[39m \u001b[38;5;124m'\u001b[39m\u001b[38;5;124m'\u001b[39m\n\u001b[1;32m    207\u001b[0m \u001b[38;5;28;01mtry\u001b[39;00m:\n",
      "\u001b[0;31mTwythonAuthError\u001b[0m: Twitter API returned a 401 (Unauthorized), Invalid or expired token."
     ]
    }
   ],
   "source": [
    "# Twython 인스턴스 생성\n",
    "twitter = Twython(APP_KEY, APP_SECRET, OAUTH_TOKEN, OAUTH_TOKEN_SECRET)\n",
    "\n",
    "# 예시: 사용자 타임라인 트윗 가져오기\n",
    "username = \"@DrFirst111\"\n",
    "user_timeline = twitter.get_user_timeline(screen_name=username, count=10)\n",
    "\n",
    "# 마지막 10개 트윗의 텍스트 출력\n",
    "for tweet in user_timeline:\n",
    "    print(tweet[\"text\"])"
   ]
  },
  {
   "cell_type": "code",
   "execution_count": 10,
   "id": "3adacd39",
   "metadata": {},
   "outputs": [],
   "source": [
    "api_key = 'UBcDEOJ089eD6AJQQzyIozemP'\n",
    "api_secret = 'wk74MprAMTBm4D17z1sNwaOgT4YfwNxZQcemeyBfng2gwHUvyZ'"
   ]
  },
  {
   "cell_type": "code",
   "execution_count": 32,
   "id": "06c15076",
   "metadata": {},
   "outputs": [],
   "source": []
  },
  {
   "cell_type": "code",
   "execution_count": 33,
   "id": "2d51a658",
   "metadata": {},
   "outputs": [],
   "source": [
    "\n",
    "import tweepy\n",
    "\n",
    "access_token = '1479831483766681605-Web8Yadm13sA4A8AUmQ4n9s4utoDMc'\n",
    "access_token_secret= 'vO5m1J6yEbmyLFpP7afSkRqPkAsC8Fg8SdmoAkVFft8G0'\n",
    "\n",
    "cliend_id = 'RFgxS2NMZHVyTW1fNl90SmdPN1Y6MTpjaQ'\n",
    "client_secret = 'cr0uBrEv9Sy_OlkDqT3zNyiy6sYuzvphbOB2dkr1sq3rVAG5xh'\n",
    "\n",
    "api_key = 'UBcDEOJ089eD6AJQQzyIozemP'\n",
    "api_secret = 'wk74MprAMTBm4D17z1sNwaOgT4YfwNxZQcemeyBfng2gwHUvyZ'\n",
    "\n",
    "Bearer_Token =\"AAAAAAAAAAAAAAAAAAAAAOeZtAEAAAAAdYRN2gIFYkz%2BuDujIMTRaEvr8ZI%3DSSdLTaUCO0zp7ZYEZPLjaugPF5UYai763tPYIunxWi62S9Oj7L\"\n",
    "\n",
    "text = \"안녕하세요 Tweepy 테스트 입니다\"\n",
    "\n",
    "client = tweepy.Client(\n",
    "    access_token= access_token,\n",
    "    access_token_secret=access_token_secret,\n",
    "    consumer_key= api_key,\n",
    "    consumer_secret=api_secret ,\n",
    "    bearer_token= Bearer_Token\n",
    ")\n",
    "\n",
    "result = client.create_tweet(text=text)"
   ]
  },
  {
   "cell_type": "code",
   "execution_count": 4,
   "id": "6a890b40",
   "metadata": {},
   "outputs": [
    {
     "ename": "AttributeError",
     "evalue": "'API' object has no attribute 'search'",
     "output_type": "error",
     "traceback": [
      "\u001b[0;31m---------------------------------------------------------------------------\u001b[0m",
      "\u001b[0;31mAttributeError\u001b[0m                            Traceback (most recent call last)",
      "Cell \u001b[0;32mIn[4], line 21\u001b[0m\n\u001b[1;32m     18\u001b[0m query \u001b[38;5;241m=\u001b[39m \u001b[38;5;124m\"\u001b[39m\u001b[38;5;124mpython\u001b[39m\u001b[38;5;124m\"\u001b[39m\n\u001b[1;32m     20\u001b[0m \u001b[38;5;66;03m# 트윗 검색\u001b[39;00m\n\u001b[0;32m---> 21\u001b[0m tweets \u001b[38;5;241m=\u001b[39m api\u001b[38;5;241m.\u001b[39msearch(q\u001b[38;5;241m=\u001b[39mquery, count\u001b[38;5;241m=\u001b[39m\u001b[38;5;241m100\u001b[39m)\n\u001b[1;32m     23\u001b[0m \u001b[38;5;66;03m# 결과 출력\u001b[39;00m\n\u001b[1;32m     24\u001b[0m \u001b[38;5;28;01mfor\u001b[39;00m tweet \u001b[38;5;129;01min\u001b[39;00m tweets:\n",
      "\u001b[0;31mAttributeError\u001b[0m: 'API' object has no attribute 'search'"
     ]
    }
   ],
   "source": [
    "import tweepy\n",
    "import json\n",
    "\n",
    "# API 키 및 토큰 설정\n",
    "CONSUMER_KEY = 'RFgxS2NMZHVyTW1fNl90SmdPN1Y6MTpjaQ'\n",
    "CONSUMER_SECRET ='cr0uBrEv9Sy_OlkDqT3zNyiy6sYuzvphbOB2dkr1sq3rVAG5xh'\n",
    "ACCESS_TOKEN =  '1479831483766681605-QITDL6sxBU5khuEVreyr4iZ7i5xvHz'\n",
    "ACCESS_TOKEN_SECRET = 'z6OOCFd1q3U3UBnBcJ2gvxGUW7drIfLgrh6yaoUimKCSg'\n",
    "\n",
    "# 인증 객체 생성\n",
    "auth = tweepy.OAuthHandler(CONSUMER_KEY, CONSUMER_SECRET)\n",
    "auth.set_access_token(ACCESS_TOKEN, ACCESS_TOKEN_SECRET)\n",
    "\n",
    "# API 객체 생성\n",
    "api = tweepy.API(auth)\n",
    "\n",
    "# 검색어 설정\n",
    "query = \"python\"\n",
    "\n",
    "# 트윗 검색\n",
    "tweets = api.search(q=query, count=100)\n",
    "\n",
    "# 결과 출력\n",
    "for tweet in tweets:\n",
    "    print(tweet.text)"
   ]
  },
  {
   "cell_type": "code",
   "execution_count": null,
   "id": "bc8d004e",
   "metadata": {},
   "outputs": [],
   "source": []
  },
  {
   "cell_type": "code",
   "execution_count": null,
   "id": "403e5ac4",
   "metadata": {},
   "outputs": [],
   "source": [
    "https://pypi.org/project/python-twitter-v2/"
   ]
  },
  {
   "cell_type": "code",
   "execution_count": 14,
   "id": "3de25699",
   "metadata": {
    "scrolled": true
   },
   "outputs": [
    {
     "name": "stdout",
     "output_type": "stream",
     "text": [
      "Collecting python-twitter-v2\n",
      "  Obtaining dependency information for python-twitter-v2 from https://files.pythonhosted.org/packages/a0/6d/b269f8a606d0c907a4a44da988e5a8cefa283a6221b3e355ca0f40bf3b35/python_twitter_v2-0.9.1-py3-none-any.whl.metadata\n",
      "  Downloading python_twitter_v2-0.9.1-py3-none-any.whl.metadata (9.9 kB)\n",
      "Collecting Authlib<2.0.0,>=1.0.0 (from python-twitter-v2)\n",
      "  Obtaining dependency information for Authlib<2.0.0,>=1.0.0 from https://files.pythonhosted.org/packages/25/65/b78eb948b71ab232d08b30c38a2e3b69e6e50c6e166863a0068c877155b9/Authlib-1.3.0-py2.py3-none-any.whl.metadata\n",
      "  Downloading Authlib-1.3.0-py2.py3-none-any.whl.metadata (3.8 kB)\n",
      "Collecting dataclasses-json<0.6.0,>=0.5.7 (from python-twitter-v2)\n",
      "  Obtaining dependency information for dataclasses-json<0.6.0,>=0.5.7 from https://files.pythonhosted.org/packages/97/5f/e7cc90f36152810cab08b6c9c1125e8bcb9d76f8b3018d101b5f877b386c/dataclasses_json-0.5.14-py3-none-any.whl.metadata\n",
      "  Downloading dataclasses_json-0.5.14-py3-none-any.whl.metadata (22 kB)\n",
      "Requirement already satisfied: requests<3.0,>=2.28 in /home/bongo/anaconda3/lib/python3.11/site-packages (from python-twitter-v2) (2.31.0)\n",
      "Requirement already satisfied: cryptography in /home/bongo/anaconda3/lib/python3.11/site-packages (from Authlib<2.0.0,>=1.0.0->python-twitter-v2) (41.0.2)\n",
      "Requirement already satisfied: marshmallow<4.0.0,>=3.18.0 in /home/bongo/anaconda3/lib/python3.11/site-packages (from dataclasses-json<0.6.0,>=0.5.7->python-twitter-v2) (3.20.2)\n",
      "Requirement already satisfied: typing-inspect<1,>=0.4.0 in /home/bongo/anaconda3/lib/python3.11/site-packages (from dataclasses-json<0.6.0,>=0.5.7->python-twitter-v2) (0.9.0)\n",
      "Requirement already satisfied: charset-normalizer<4,>=2 in /home/bongo/anaconda3/lib/python3.11/site-packages (from requests<3.0,>=2.28->python-twitter-v2) (2.1.1)\n",
      "Requirement already satisfied: idna<4,>=2.5 in /home/bongo/anaconda3/lib/python3.11/site-packages (from requests<3.0,>=2.28->python-twitter-v2) (3.4)\n",
      "Requirement already satisfied: urllib3<3,>=1.21.1 in /home/bongo/anaconda3/lib/python3.11/site-packages (from requests<3.0,>=2.28->python-twitter-v2) (1.26.18)\n",
      "Requirement already satisfied: certifi>=2017.4.17 in /home/bongo/anaconda3/lib/python3.11/site-packages (from requests<3.0,>=2.28->python-twitter-v2) (2024.2.2)\n",
      "Requirement already satisfied: packaging>=17.0 in /home/bongo/anaconda3/lib/python3.11/site-packages (from marshmallow<4.0.0,>=3.18.0->dataclasses-json<0.6.0,>=0.5.7->python-twitter-v2) (23.2)\n",
      "Requirement already satisfied: mypy-extensions>=0.3.0 in /home/bongo/anaconda3/lib/python3.11/site-packages (from typing-inspect<1,>=0.4.0->dataclasses-json<0.6.0,>=0.5.7->python-twitter-v2) (1.0.0)\n",
      "Requirement already satisfied: typing-extensions>=3.7.4 in /home/bongo/anaconda3/lib/python3.11/site-packages (from typing-inspect<1,>=0.4.0->dataclasses-json<0.6.0,>=0.5.7->python-twitter-v2) (4.9.0)\n",
      "Requirement already satisfied: cffi>=1.12 in /home/bongo/anaconda3/lib/python3.11/site-packages (from cryptography->Authlib<2.0.0,>=1.0.0->python-twitter-v2) (1.15.1)\n",
      "Requirement already satisfied: pycparser in /home/bongo/anaconda3/lib/python3.11/site-packages (from cffi>=1.12->cryptography->Authlib<2.0.0,>=1.0.0->python-twitter-v2) (2.21)\n",
      "Downloading python_twitter_v2-0.9.1-py3-none-any.whl (36 kB)\n",
      "Downloading Authlib-1.3.0-py2.py3-none-any.whl (223 kB)\n",
      "\u001b[2K   \u001b[90m━━━━━━━━━━━━━━━━━━━━━━━━━━━━━━━━━━━━━━━━\u001b[0m \u001b[32m223.7/223.7 kB\u001b[0m \u001b[31m25.6 MB/s\u001b[0m eta \u001b[36m0:00:00\u001b[0m\n",
      "\u001b[?25hDownloading dataclasses_json-0.5.14-py3-none-any.whl (26 kB)\n",
      "Installing collected packages: dataclasses-json, Authlib, python-twitter-v2\n",
      "  Attempting uninstall: dataclasses-json\n",
      "    Found existing installation: dataclasses-json 0.6.3\n",
      "    Uninstalling dataclasses-json-0.6.3:\n",
      "      Successfully uninstalled dataclasses-json-0.6.3\n",
      "\u001b[31mERROR: pip's dependency resolver does not currently take into account all the packages that are installed. This behaviour is the source of the following dependency conflicts.\n",
      "langchain-community 0.0.15 requires langsmith<0.1,>=0.0.83, but you have langsmith 0.1.21 which is incompatible.\n",
      "unstructured-client 0.16.0 requires charset-normalizer>=3.2.0, but you have charset-normalizer 2.1.1 which is incompatible.\n",
      "unstructured-client 0.16.0 requires dataclasses-json>=0.6.1, but you have dataclasses-json 0.5.14 which is incompatible.\n",
      "langchain 0.1.3 requires langsmith<0.1,>=0.0.83, but you have langsmith 0.1.21 which is incompatible.\u001b[0m\u001b[31m\n",
      "\u001b[0mSuccessfully installed Authlib-1.3.0 dataclasses-json-0.5.14 python-twitter-v2-0.9.1\n"
     ]
    }
   ],
   "source": [
    "!pip install python-twitter-v2"
   ]
  },
  {
   "cell_type": "code",
   "execution_count": 1,
   "id": "7dcb5fc1",
   "metadata": {},
   "outputs": [],
   "source": [
    "from pytwitter import Api\n",
    "Bearer_Token =\"AAAAAAAAAAAAAAAAAAAAAOeZtAEAAAAAdYRN2gIFYkz%2BuDujIMTRaEvr8ZI%3DSSdLTaUCO0zp7ZYEZPLjaugPF5UYai763tPYIunxWi62S9Oj7L\"\n",
    "api = Api(bearer_token=Bearer_Token)"
   ]
  },
  {
   "cell_type": "code",
   "execution_count": 2,
   "id": "d5138a57",
   "metadata": {
    "scrolled": true
   },
   "outputs": [
    {
     "ename": "PyTwitterError",
     "evalue": "{'client_id': '28613095', 'detail': 'When authenticating requests to the Twitter API v2 endpoints, you must use keys and tokens from a Twitter developer App that is attached to a Project. You can create a project via the developer portal.', 'registration_url': 'https://developer.twitter.com/en/docs/projects/overview', 'title': 'Client Forbidden', 'required_enrollment': 'Appropriate Level of API Access', 'reason': 'client-not-enrolled', 'type': 'https://api.twitter.com/2/problems/client-forbidden'}",
     "output_type": "error",
     "traceback": [
      "\u001b[0;31m---------------------------------------------------------------------------\u001b[0m",
      "\u001b[0;31mPyTwitterError\u001b[0m                            Traceback (most recent call last)",
      "Cell \u001b[0;32mIn[2], line 1\u001b[0m\n\u001b[0;32m----> 1\u001b[0m api\u001b[38;5;241m.\u001b[39mget_user(username\u001b[38;5;241m=\u001b[39m\u001b[38;5;124m\"\u001b[39m\u001b[38;5;124mTwitter\u001b[39m\u001b[38;5;124m\"\u001b[39m)\n",
      "File \u001b[0;32m~/anaconda3/lib/python3.11/site-packages/pytwitter/api.py:1748\u001b[0m, in \u001b[0;36mApi.get_user\u001b[0;34m(self, user_id, username, user_fields, expansions, tweet_fields, return_json)\u001b[0m\n\u001b[1;32m   1745\u001b[0m \u001b[38;5;28;01melse\u001b[39;00m:\n\u001b[1;32m   1746\u001b[0m     \u001b[38;5;28;01mraise\u001b[39;00m PyTwitterError(\u001b[38;5;124m\"\u001b[39m\u001b[38;5;124mSpecify at least one of user_id or username\u001b[39m\u001b[38;5;124m\"\u001b[39m)\n\u001b[0;32m-> 1748\u001b[0m \u001b[38;5;28;01mreturn\u001b[39;00m \u001b[38;5;28mself\u001b[39m\u001b[38;5;241m.\u001b[39m_get(\n\u001b[1;32m   1749\u001b[0m     url\u001b[38;5;241m=\u001b[39m\u001b[38;5;124mf\u001b[39m\u001b[38;5;124m\"\u001b[39m\u001b[38;5;132;01m{\u001b[39;00m\u001b[38;5;28mself\u001b[39m\u001b[38;5;241m.\u001b[39mBASE_URL_V2\u001b[38;5;132;01m}\u001b[39;00m\u001b[38;5;124m/\u001b[39m\u001b[38;5;132;01m{\u001b[39;00mpath\u001b[38;5;132;01m}\u001b[39;00m\u001b[38;5;124m\"\u001b[39m,\n\u001b[1;32m   1750\u001b[0m     params\u001b[38;5;241m=\u001b[39margs,\n\u001b[1;32m   1751\u001b[0m     \u001b[38;5;28mcls\u001b[39m\u001b[38;5;241m=\u001b[39mmd\u001b[38;5;241m.\u001b[39mUser,\n\u001b[1;32m   1752\u001b[0m     return_json\u001b[38;5;241m=\u001b[39mreturn_json,\n\u001b[1;32m   1753\u001b[0m )\n",
      "File \u001b[0;32m~/anaconda3/lib/python3.11/site-packages/pytwitter/api.py:432\u001b[0m, in \u001b[0;36mApi._get\u001b[0;34m(self, url, params, cls, multi, return_json)\u001b[0m\n\u001b[1;32m    421\u001b[0m \u001b[38;5;250m\u001b[39m\u001b[38;5;124;03m\"\"\"\u001b[39;00m\n\u001b[1;32m    422\u001b[0m \u001b[38;5;124;03m:param url: Url for twitter api\u001b[39;00m\n\u001b[1;32m    423\u001b[0m \u001b[38;5;124;03m:param params: Parameters for api\u001b[39;00m\n\u001b[0;32m   (...)\u001b[0m\n\u001b[1;32m    429\u001b[0m \u001b[38;5;124;03m    - includes: If have expansions, will return\u001b[39;00m\n\u001b[1;32m    430\u001b[0m \u001b[38;5;124;03m\"\"\"\u001b[39;00m\n\u001b[1;32m    431\u001b[0m resp \u001b[38;5;241m=\u001b[39m \u001b[38;5;28mself\u001b[39m\u001b[38;5;241m.\u001b[39m_request(url\u001b[38;5;241m=\u001b[39murl, params\u001b[38;5;241m=\u001b[39mparams)\n\u001b[0;32m--> 432\u001b[0m resp_json \u001b[38;5;241m=\u001b[39m \u001b[38;5;28mself\u001b[39m\u001b[38;5;241m.\u001b[39m_parse_response(resp)\n\u001b[1;32m    434\u001b[0m \u001b[38;5;28;01mif\u001b[39;00m return_json:\n\u001b[1;32m    435\u001b[0m     \u001b[38;5;28;01mreturn\u001b[39;00m resp_json\n",
      "File \u001b[0;32m~/anaconda3/lib/python3.11/site-packages/pytwitter/api.py:400\u001b[0m, in \u001b[0;36mApi._parse_response\u001b[0;34m(resp)\u001b[0m\n\u001b[1;32m    397\u001b[0m     \u001b[38;5;28;01mraise\u001b[39;00m PyTwitterError(\u001b[38;5;124mf\u001b[39m\u001b[38;5;124m\"\u001b[39m\u001b[38;5;124mUnknown error: \u001b[39m\u001b[38;5;132;01m{\u001b[39;00mresp\u001b[38;5;241m.\u001b[39mcontent\u001b[38;5;132;01m}\u001b[39;00m\u001b[38;5;124m\"\u001b[39m)\n\u001b[1;32m    399\u001b[0m \u001b[38;5;28;01mif\u001b[39;00m \u001b[38;5;129;01mnot\u001b[39;00m resp\u001b[38;5;241m.\u001b[39mok:\n\u001b[0;32m--> 400\u001b[0m     \u001b[38;5;28;01mraise\u001b[39;00m PyTwitterError(data)\n\u001b[1;32m    402\u001b[0m \u001b[38;5;66;03m# note:\u001b[39;00m\n\u001b[1;32m    403\u001b[0m \u001b[38;5;66;03m# If only errors will raise\u001b[39;00m\n\u001b[1;32m    404\u001b[0m \u001b[38;5;28;01mif\u001b[39;00m \u001b[38;5;124m\"\u001b[39m\u001b[38;5;124merrors\u001b[39m\u001b[38;5;124m\"\u001b[39m \u001b[38;5;129;01min\u001b[39;00m data \u001b[38;5;129;01mand\u001b[39;00m \u001b[38;5;28mlen\u001b[39m(data\u001b[38;5;241m.\u001b[39mkeys()) \u001b[38;5;241m==\u001b[39m \u001b[38;5;241m1\u001b[39m:\n",
      "\u001b[0;31mPyTwitterError\u001b[0m: {'client_id': '28613095', 'detail': 'When authenticating requests to the Twitter API v2 endpoints, you must use keys and tokens from a Twitter developer App that is attached to a Project. You can create a project via the developer portal.', 'registration_url': 'https://developer.twitter.com/en/docs/projects/overview', 'title': 'Client Forbidden', 'required_enrollment': 'Appropriate Level of API Access', 'reason': 'client-not-enrolled', 'type': 'https://api.twitter.com/2/problems/client-forbidden'}"
     ]
    }
   ],
   "source": [
    "api.get_user(username=\"Twitter\")"
   ]
  },
  {
   "cell_type": "code",
   "execution_count": 21,
   "id": "ae6644d5",
   "metadata": {
    "scrolled": true
   },
   "outputs": [
    {
     "ename": "PyTwitterError",
     "evalue": "{'client_id': '28613095', 'detail': 'When authenticating requests to the Twitter API v2 endpoints, you must use keys and tokens from a Twitter developer App that is attached to a Project. You can create a project via the developer portal.', 'registration_url': 'https://developer.twitter.com/en/docs/projects/overview', 'title': 'Client Forbidden', 'required_enrollment': 'Appropriate Level of API Access', 'reason': 'client-not-enrolled', 'type': 'https://api.twitter.com/2/problems/client-forbidden'}",
     "output_type": "error",
     "traceback": [
      "\u001b[0;31m---------------------------------------------------------------------------\u001b[0m",
      "\u001b[0;31mPyTwitterError\u001b[0m                            Traceback (most recent call last)",
      "Cell \u001b[0;32mIn[21], line 1\u001b[0m\n\u001b[0;32m----> 1\u001b[0m api\u001b[38;5;241m.\u001b[39mget_users(ids\u001b[38;5;241m=\u001b[39m[\u001b[38;5;124m\"\u001b[39m\u001b[38;5;124m28613095\u001b[39m\u001b[38;5;124m\"\u001b[39m])\n",
      "File \u001b[0;32m~/anaconda3/lib/python3.11/site-packages/pytwitter/api.py:1701\u001b[0m, in \u001b[0;36mApi.get_users\u001b[0;34m(self, ids, usernames, user_fields, expansions, tweet_fields, return_json)\u001b[0m\n\u001b[1;32m   1698\u001b[0m \u001b[38;5;28;01melse\u001b[39;00m:\n\u001b[1;32m   1699\u001b[0m     \u001b[38;5;28;01mraise\u001b[39;00m PyTwitterError(\u001b[38;5;124m\"\u001b[39m\u001b[38;5;124mSpecify at least one of ids or usernames\u001b[39m\u001b[38;5;124m\"\u001b[39m)\n\u001b[0;32m-> 1701\u001b[0m \u001b[38;5;28;01mreturn\u001b[39;00m \u001b[38;5;28mself\u001b[39m\u001b[38;5;241m.\u001b[39m_get(\n\u001b[1;32m   1702\u001b[0m     url\u001b[38;5;241m=\u001b[39m\u001b[38;5;124mf\u001b[39m\u001b[38;5;124m\"\u001b[39m\u001b[38;5;132;01m{\u001b[39;00m\u001b[38;5;28mself\u001b[39m\u001b[38;5;241m.\u001b[39mBASE_URL_V2\u001b[38;5;132;01m}\u001b[39;00m\u001b[38;5;124m/\u001b[39m\u001b[38;5;132;01m{\u001b[39;00mpath\u001b[38;5;132;01m}\u001b[39;00m\u001b[38;5;124m\"\u001b[39m,\n\u001b[1;32m   1703\u001b[0m     params\u001b[38;5;241m=\u001b[39margs,\n\u001b[1;32m   1704\u001b[0m     \u001b[38;5;28mcls\u001b[39m\u001b[38;5;241m=\u001b[39mmd\u001b[38;5;241m.\u001b[39mUser,\n\u001b[1;32m   1705\u001b[0m     multi\u001b[38;5;241m=\u001b[39m\u001b[38;5;28;01mTrue\u001b[39;00m,\n\u001b[1;32m   1706\u001b[0m     return_json\u001b[38;5;241m=\u001b[39mreturn_json,\n\u001b[1;32m   1707\u001b[0m )\n",
      "File \u001b[0;32m~/anaconda3/lib/python3.11/site-packages/pytwitter/api.py:432\u001b[0m, in \u001b[0;36mApi._get\u001b[0;34m(self, url, params, cls, multi, return_json)\u001b[0m\n\u001b[1;32m    421\u001b[0m \u001b[38;5;250m\u001b[39m\u001b[38;5;124;03m\"\"\"\u001b[39;00m\n\u001b[1;32m    422\u001b[0m \u001b[38;5;124;03m:param url: Url for twitter api\u001b[39;00m\n\u001b[1;32m    423\u001b[0m \u001b[38;5;124;03m:param params: Parameters for api\u001b[39;00m\n\u001b[0;32m   (...)\u001b[0m\n\u001b[1;32m    429\u001b[0m \u001b[38;5;124;03m    - includes: If have expansions, will return\u001b[39;00m\n\u001b[1;32m    430\u001b[0m \u001b[38;5;124;03m\"\"\"\u001b[39;00m\n\u001b[1;32m    431\u001b[0m resp \u001b[38;5;241m=\u001b[39m \u001b[38;5;28mself\u001b[39m\u001b[38;5;241m.\u001b[39m_request(url\u001b[38;5;241m=\u001b[39murl, params\u001b[38;5;241m=\u001b[39mparams)\n\u001b[0;32m--> 432\u001b[0m resp_json \u001b[38;5;241m=\u001b[39m \u001b[38;5;28mself\u001b[39m\u001b[38;5;241m.\u001b[39m_parse_response(resp)\n\u001b[1;32m    434\u001b[0m \u001b[38;5;28;01mif\u001b[39;00m return_json:\n\u001b[1;32m    435\u001b[0m     \u001b[38;5;28;01mreturn\u001b[39;00m resp_json\n",
      "File \u001b[0;32m~/anaconda3/lib/python3.11/site-packages/pytwitter/api.py:400\u001b[0m, in \u001b[0;36mApi._parse_response\u001b[0;34m(resp)\u001b[0m\n\u001b[1;32m    397\u001b[0m     \u001b[38;5;28;01mraise\u001b[39;00m PyTwitterError(\u001b[38;5;124mf\u001b[39m\u001b[38;5;124m\"\u001b[39m\u001b[38;5;124mUnknown error: \u001b[39m\u001b[38;5;132;01m{\u001b[39;00mresp\u001b[38;5;241m.\u001b[39mcontent\u001b[38;5;132;01m}\u001b[39;00m\u001b[38;5;124m\"\u001b[39m)\n\u001b[1;32m    399\u001b[0m \u001b[38;5;28;01mif\u001b[39;00m \u001b[38;5;129;01mnot\u001b[39;00m resp\u001b[38;5;241m.\u001b[39mok:\n\u001b[0;32m--> 400\u001b[0m     \u001b[38;5;28;01mraise\u001b[39;00m PyTwitterError(data)\n\u001b[1;32m    402\u001b[0m \u001b[38;5;66;03m# note:\u001b[39;00m\n\u001b[1;32m    403\u001b[0m \u001b[38;5;66;03m# If only errors will raise\u001b[39;00m\n\u001b[1;32m    404\u001b[0m \u001b[38;5;28;01mif\u001b[39;00m \u001b[38;5;124m\"\u001b[39m\u001b[38;5;124merrors\u001b[39m\u001b[38;5;124m\"\u001b[39m \u001b[38;5;129;01min\u001b[39;00m data \u001b[38;5;129;01mand\u001b[39;00m \u001b[38;5;28mlen\u001b[39m(data\u001b[38;5;241m.\u001b[39mkeys()) \u001b[38;5;241m==\u001b[39m \u001b[38;5;241m1\u001b[39m:\n",
      "\u001b[0;31mPyTwitterError\u001b[0m: {'client_id': '28613095', 'detail': 'When authenticating requests to the Twitter API v2 endpoints, you must use keys and tokens from a Twitter developer App that is attached to a Project. You can create a project via the developer portal.', 'registration_url': 'https://developer.twitter.com/en/docs/projects/overview', 'title': 'Client Forbidden', 'required_enrollment': 'Appropriate Level of API Access', 'reason': 'client-not-enrolled', 'type': 'https://api.twitter.com/2/problems/client-forbidden'}"
     ]
    }
   ],
   "source": [
    "api.get_users(ids=[\"28613095\"])"
   ]
  },
  {
   "cell_type": "code",
   "execution_count": 20,
   "id": "b245c73c",
   "metadata": {},
   "outputs": [],
   "source": [
    "access_token = '1479831483766681605-QITDL6sxBU5khuEVreyr4iZ7i5xvHz'\n",
    "access_token_secret= 'z6OOCFd1q3U3UBnBcJ2gvxGUW7drIfLgrh6yaoUimKCSg'\n",
    "\n",
    "cliend_id = 'RFgxS2NMZHVyTW1fNl90SmdPN1Y6MTpjaQ'\n",
    "client_secret = 'cr0uBrEv9Sy_OlkDqT3zNyiy6sYuzvphbOB2dkr1sq3rVAG5xh'"
   ]
  },
  {
   "cell_type": "code",
   "execution_count": 4,
   "id": "2d2392ba",
   "metadata": {},
   "outputs": [],
   "source": [
    "import requests\n",
    "import pandas as pd"
   ]
  },
  {
   "cell_type": "code",
   "execution_count": null,
   "id": "73bda3a8",
   "metadata": {},
   "outputs": [],
   "source": [
    "curl --request GET 'https://api.twitter.com/2/tweets/search/recent?query=from:twitterdev' --header 'Authorization: Bearer $BEARER_TOKEN'"
   ]
  },
  {
   "cell_type": "code",
   "execution_count": null,
   "id": "8c3fa05c",
   "metadata": {},
   "outputs": [],
   "source": [
    "import requests\n",
    "\n",
    "# Bearer 토큰 입력\n",
    "BEARER_TOKEN = \"YOUR_BEARER_TOKEN\"\n",
    "\n",
    "# 요청 URL 및 헤더 설정\n",
    "url = \"https://api.twitter.com/2/tweets/search/recent?query=from:twitterdev\"\n",
    "headers = {\n",
    "    \"Authorization\": f\"Bearer {BEARER_TOKEN}\",\n",
    "}\n",
    "\n",
    "# GET 요청 수행\n",
    "response = requests.get(url, headers=headers)\n",
    "\n",
    "# 응답 확인\n",
    "if response.status_code == 200:\n",
    "    # 성공 시 응답 데이터 출력\n",
    "    print(response.json())\n",
    "else:\n",
    "    # 실패 시 오류 메시지 출력\n",
    "    print(f\"오류 코드: {response.status_code}\")\n",
    "    print(response.text)\n"
   ]
  },
  {
   "cell_type": "code",
   "execution_count": 12,
   "id": "e7d28fe2",
   "metadata": {
    "scrolled": true
   },
   "outputs": [
    {
     "data": {
      "text/plain": [
       "<Response [401]>"
      ]
     },
     "execution_count": 12,
     "metadata": {},
     "output_type": "execute_result"
    }
   ],
   "source": [
    "url = \"https://api.twitter.com/2/tweets/search/recent?query=from:twitterdev\"\n",
    "headers = {\n",
    "  'Authorization': f'{Bearer_Token}',\n",
    "}\n",
    "\n",
    "res = requests.get(target_url,headers = headers)\n",
    "res\n"
   ]
  },
  {
   "cell_type": "code",
   "execution_count": 13,
   "id": "196e4328",
   "metadata": {},
   "outputs": [
    {
     "data": {
      "text/plain": [
       "'{\\n  \"title\": \"Unauthorized\",\\n  \"type\": \"about:blank\",\\n  \"status\": 401,\\n  \"detail\": \"Unauthorized\"\\n}'"
      ]
     },
     "execution_count": 13,
     "metadata": {},
     "output_type": "execute_result"
    }
   ],
   "source": [
    "res.text"
   ]
  },
  {
   "cell_type": "code",
   "execution_count": null,
   "id": "c9513c28",
   "metadata": {},
   "outputs": [],
   "source": []
  }
 ],
 "metadata": {
  "kernelspec": {
   "display_name": "Python 3 (ipykernel)",
   "language": "python",
   "name": "python3"
  },
  "language_info": {
   "codemirror_mode": {
    "name": "ipython",
    "version": 3
   },
   "file_extension": ".py",
   "mimetype": "text/x-python",
   "name": "python",
   "nbconvert_exporter": "python",
   "pygments_lexer": "ipython3",
   "version": "3.11.4"
  }
 },
 "nbformat": 4,
 "nbformat_minor": 5
}
